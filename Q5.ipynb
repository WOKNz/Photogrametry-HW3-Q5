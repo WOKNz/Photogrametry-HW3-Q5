{
 "cells": [
  {
   "cell_type": "markdown",
   "metadata": {
    "collapsed": true,
    "pycharm": {
     "name": "#%% md\n"
    }
   },
   "source": [
    "Hw3 - Q5"
   ]
  },
  {
   "cell_type": "code",
   "execution_count": 67,
   "outputs": [],
   "source": [
    "import numpy as np\n",
    "import pandas as pd\n",
    "import copy"
   ],
   "metadata": {
    "collapsed": false,
    "pycharm": {
     "name": "#%%\n",
     "is_executing": false
    }
   }
  },
  {
   "cell_type": "markdown",
   "source": [
    "Inputting Data"
   ],
   "metadata": {
    "collapsed": false,
    "pycharm": {
     "name": "#%% md\n"
    }
   }
  },
  {
   "cell_type": "code",
   "execution_count": 83,
   "outputs": [
    {
     "name": "stdout",
     "text": [
      "Approximate External Rotation for each picture\n",
      "        A       B       C    D    E    F\n",
      "0  20.652  21.344  50.349  0.0  0.0  0.0\n",
      "1  36.111  21.448  52.378  0.0  0.0  0.0\n",
      "2  44.346  20.245  48.475  0.0  0.0  0.0\n",
      "3  20.255  38.253  49.896  0.0  0.0  0.0\n",
      "4  35.835  35.765  51.272  0.0  0.0  0.0\n",
      "5  45.240  39.902  49.479  0.0  0.0  0.0\n",
      "6  23.037  55.531  49.818  0.0  0.0  0.0\n",
      "7  35.072  54.896  48.637  0.0  0.0  0.0\n",
      "8  47.649  56.771  49.733  0.0  0.0  0.0\n",
      "\n",
      "Ground Control Points\n",
      "\n",
      "Camera points of GCP\n",
      "    img  pnt       x       y\n",
      "0     1    1  -8.968 -10.917\n",
      "1     1    2   7.020  -7.509\n",
      "2     1    3  10.659   8.809\n",
      "3     1    4  -7.593   8.702\n",
      "4     2    1 -16.269 -11.410\n",
      "5     2    2  -0.375  -7.514\n",
      "6     2    3   2.780   8.896\n",
      "7     2    4 -15.462   8.252\n",
      "8     3    2  -9.262  -6.166\n",
      "9     3    3  -3.175   9.407\n",
      "10    3    4 -21.219  12.107\n",
      "11    4    1  -6.547 -21.966\n",
      "12    4    2   8.968 -16.759\n",
      "13    4    3  10.756  -0.154\n",
      "14    4    4  -7.387  -2.289\n",
      "15    5    1 -17.382 -20.438\n",
      "16    5    2  -1.260 -17.626\n",
      "17    5    3   2.978  -1.468\n",
      "18    5    4 -15.241  -0.876\n",
      "19    5    5  11.670   6.436\n",
      "20    6    2  -6.051 -18.517\n",
      "21    6    3  -4.386  -1.897\n",
      "22    6    4 -22.495  -4.152\n",
      "23    6    5   2.962   7.256\n",
      "24    7    1  -8.096 -31.467\n",
      "25    7    2   7.799 -27.616\n",
      "26    7    3  10.977 -11.219\n",
      "27    7    4  -7.268 -11.812\n",
      "28    8    2   2.158 -27.745\n",
      "29    8    3   4.157 -11.164\n",
      "30    8    4 -13.993 -13.045\n",
      "31    8    5  11.691  -2.156\n",
      "32    9    1 -26.646 -29.189\n",
      "33    9    2 -10.432 -27.070\n",
      "34    9    3  -5.489 -11.110\n",
      "35    9    4 -23.697  -9.735\n",
      "36    9    5   3.524  -3.586\n",
      "\n",
      "Camera Tie Points\n",
      "     img  pnt      x      y\n",
      "0      1    1 -0.001  0.002\n",
      "1      1    2  0.001  6.349\n",
      "2      1    3 -0.002 -6.348\n",
      "3      1    4  7.620 -0.003\n",
      "4      1    5  7.812  6.347\n",
      "..   ...  ...    ...    ...\n",
      "114    9   23 -6.461  6.861\n",
      "115    9   24 -8.728 -5.625\n",
      "116    9   25  0.004 -0.005\n",
      "117    9   26  0.005  6.347\n",
      "118    9   27  0.007 -6.346\n",
      "\n",
      "[119 rows x 4 columns]\n"
     ],
     "output_type": "stream"
    }
   ],
   "source": [
    "print('Approximate External Rotation for each picture')\n",
    "aprox_ext_rotation = np.loadtxt('data/approxEOP.txt')\n",
    "aprox_ext_rotation_pd = pd.DataFrame(aprox_ext_rotation,columns=['A','B','C','D','E','F'])\n",
    "print(aprox_ext_rotation_pd)\n",
    "\n",
    "print('\\nGround Control Points')\n",
    "gcp_pd = pd.read_csv('data/controlPoints.txt', sep='\\t')\n",
    "gcp = gcp_pd.to_numpy()\n",
    "gcp[:,0] = (gcp[:,0]).astype(int)\n",
    "# np.put(gcp,(gcp.shape[0],0),np.int_(gcp[:,0]))\n",
    "#print(gcp_pd)\n",
    "# print(gcp)\n",
    "# print((np.int_(gcp[:,0])).dtype)\n",
    "# print(gcp_pd.dtypes)\n",
    "# print(gcp.dtype)\n",
    "\n",
    "print('\\nCamera points of GCP')\n",
    "camera_control_points_pd = pd.read_csv('data/controlPointsSamples.txt', sep=' |\\t', engine='python')\n",
    "camera_control_points = camera_control_points_pd.to_numpy()\n",
    "camera_control_points[:,0:1] = camera_control_points[:,0:1].astype(int)\n",
    "print(camera_control_points_pd)\n",
    "\n",
    "print('\\nCamera Tie Points')\n",
    "tie_points_pd = pd.read_csv('data/tiePointsSamples.txt', sep=' |\\t', engine='python')\n",
    "tie_points = tie_points_pd.to_numpy()\n",
    "print(tie_points_pd)"
   ],
   "metadata": {
    "collapsed": false,
    "pycharm": {
     "name": "#%%\n",
     "is_executing": false
    }
   }
  },
  {
   "cell_type": "code",
   "execution_count": null,
   "outputs": [],
   "source": [
    "\n"
   ],
   "metadata": {
    "collapsed": false,
    "pycharm": {
     "name": "#%%\n"
    }
   }
  }
 ],
 "metadata": {
  "kernelspec": {
   "display_name": "Python 3",
   "language": "python",
   "name": "python3"
  },
  "language_info": {
   "codemirror_mode": {
    "name": "ipython",
    "version": 2
   },
   "file_extension": ".py",
   "mimetype": "text/x-python",
   "name": "python",
   "nbconvert_exporter": "python",
   "pygments_lexer": "ipython2",
   "version": "2.7.6"
  },
  "pycharm": {
   "stem_cell": {
    "cell_type": "raw",
    "source": [],
    "metadata": {
     "collapsed": false
    }
   }
  }
 },
 "nbformat": 4,
 "nbformat_minor": 0
}